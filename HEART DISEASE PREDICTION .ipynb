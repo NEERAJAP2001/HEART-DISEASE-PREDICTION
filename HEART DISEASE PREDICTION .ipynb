{
 "cells": [
  {
   "cell_type": "markdown",
   "metadata": {},
   "source": [
    "# HEART DISEASE PREDICTION "
   ]
  },
  {
   "cell_type": "markdown",
   "metadata": {},
   "source": [
    "# OVERVIEW :\n",
    "\n",
    "## PREDICTING HEART DISESES BASED ON TARGET VARIABLE "
   ]
  },
  {
   "cell_type": "markdown",
   "metadata": {},
   "source": [
    "# IMPORTING THE DATASET AND REQ LIB "
   ]
  },
  {
   "cell_type": "code",
   "execution_count": 2,
   "metadata": {},
   "outputs": [],
   "source": [
    "import pandas as  pd \n",
    "import pandas as pd\n",
    "import matplotlib.pyplot as plt\n",
    "from matplotlib import rcParams\n",
    "from matplotlib.cm import rainbow\n",
    "%matplotlib inline\n",
    "import warnings\n",
    "warnings.filterwarnings('ignore')"
   ]
  },
  {
   "cell_type": "code",
   "execution_count": 3,
   "metadata": {},
   "outputs": [],
   "source": [
    "data=pd.read_csv(r'C:\\Users\\neeraj\\OneDrive\\Desktop\\Predicting-Heart-Disease-master\\dataset.csv')"
   ]
  },
  {
   "cell_type": "code",
   "execution_count": 4,
   "metadata": {},
   "outputs": [
    {
     "data": {
      "text/html": [
       "<div>\n",
       "<style scoped>\n",
       "    .dataframe tbody tr th:only-of-type {\n",
       "        vertical-align: middle;\n",
       "    }\n",
       "\n",
       "    .dataframe tbody tr th {\n",
       "        vertical-align: top;\n",
       "    }\n",
       "\n",
       "    .dataframe thead th {\n",
       "        text-align: right;\n",
       "    }\n",
       "</style>\n",
       "<table border=\"1\" class=\"dataframe\">\n",
       "  <thead>\n",
       "    <tr style=\"text-align: right;\">\n",
       "      <th></th>\n",
       "      <th>age</th>\n",
       "      <th>sex</th>\n",
       "      <th>cp</th>\n",
       "      <th>trestbps</th>\n",
       "      <th>chol</th>\n",
       "      <th>fbs</th>\n",
       "      <th>restecg</th>\n",
       "      <th>thalach</th>\n",
       "      <th>exang</th>\n",
       "      <th>oldpeak</th>\n",
       "      <th>slope</th>\n",
       "      <th>ca</th>\n",
       "      <th>thal</th>\n",
       "      <th>target</th>\n",
       "    </tr>\n",
       "  </thead>\n",
       "  <tbody>\n",
       "    <tr>\n",
       "      <td>0</td>\n",
       "      <td>63</td>\n",
       "      <td>1</td>\n",
       "      <td>3</td>\n",
       "      <td>145</td>\n",
       "      <td>233</td>\n",
       "      <td>1</td>\n",
       "      <td>0</td>\n",
       "      <td>150</td>\n",
       "      <td>0</td>\n",
       "      <td>2.3</td>\n",
       "      <td>0</td>\n",
       "      <td>0</td>\n",
       "      <td>1</td>\n",
       "      <td>1</td>\n",
       "    </tr>\n",
       "    <tr>\n",
       "      <td>1</td>\n",
       "      <td>37</td>\n",
       "      <td>1</td>\n",
       "      <td>2</td>\n",
       "      <td>130</td>\n",
       "      <td>250</td>\n",
       "      <td>0</td>\n",
       "      <td>1</td>\n",
       "      <td>187</td>\n",
       "      <td>0</td>\n",
       "      <td>3.5</td>\n",
       "      <td>0</td>\n",
       "      <td>0</td>\n",
       "      <td>2</td>\n",
       "      <td>1</td>\n",
       "    </tr>\n",
       "    <tr>\n",
       "      <td>2</td>\n",
       "      <td>41</td>\n",
       "      <td>0</td>\n",
       "      <td>1</td>\n",
       "      <td>130</td>\n",
       "      <td>204</td>\n",
       "      <td>0</td>\n",
       "      <td>0</td>\n",
       "      <td>172</td>\n",
       "      <td>0</td>\n",
       "      <td>1.4</td>\n",
       "      <td>2</td>\n",
       "      <td>0</td>\n",
       "      <td>2</td>\n",
       "      <td>1</td>\n",
       "    </tr>\n",
       "    <tr>\n",
       "      <td>3</td>\n",
       "      <td>56</td>\n",
       "      <td>1</td>\n",
       "      <td>1</td>\n",
       "      <td>120</td>\n",
       "      <td>236</td>\n",
       "      <td>0</td>\n",
       "      <td>1</td>\n",
       "      <td>178</td>\n",
       "      <td>0</td>\n",
       "      <td>0.8</td>\n",
       "      <td>2</td>\n",
       "      <td>0</td>\n",
       "      <td>2</td>\n",
       "      <td>1</td>\n",
       "    </tr>\n",
       "    <tr>\n",
       "      <td>4</td>\n",
       "      <td>57</td>\n",
       "      <td>0</td>\n",
       "      <td>0</td>\n",
       "      <td>120</td>\n",
       "      <td>354</td>\n",
       "      <td>0</td>\n",
       "      <td>1</td>\n",
       "      <td>163</td>\n",
       "      <td>1</td>\n",
       "      <td>0.6</td>\n",
       "      <td>2</td>\n",
       "      <td>0</td>\n",
       "      <td>2</td>\n",
       "      <td>1</td>\n",
       "    </tr>\n",
       "  </tbody>\n",
       "</table>\n",
       "</div>"
      ],
      "text/plain": [
       "   age  sex  cp  trestbps  chol  fbs  restecg  thalach  exang  oldpeak  slope  \\\n",
       "0   63    1   3       145   233    1        0      150      0      2.3      0   \n",
       "1   37    1   2       130   250    0        1      187      0      3.5      0   \n",
       "2   41    0   1       130   204    0        0      172      0      1.4      2   \n",
       "3   56    1   1       120   236    0        1      178      0      0.8      2   \n",
       "4   57    0   0       120   354    0        1      163      1      0.6      2   \n",
       "\n",
       "   ca  thal  target  \n",
       "0   0     1       1  \n",
       "1   0     2       1  \n",
       "2   0     2       1  \n",
       "3   0     2       1  \n",
       "4   0     2       1  "
      ]
     },
     "execution_count": 4,
     "metadata": {},
     "output_type": "execute_result"
    }
   ],
   "source": [
    "data.head()"
   ]
  },
  {
   "cell_type": "markdown",
   "metadata": {},
   "source": [
    "# FEATURE ENGG :"
   ]
  },
  {
   "cell_type": "code",
   "execution_count": 5,
   "metadata": {},
   "outputs": [],
   "source": [
    "dataset = pd.get_dummies(data, columns = ['sex', 'cp', 'fbs', 'restecg', 'exang', 'slope', 'ca', 'thal'])"
   ]
  },
  {
   "cell_type": "code",
   "execution_count": 6,
   "metadata": {},
   "outputs": [
    {
     "name": "stdout",
     "output_type": "stream",
     "text": [
      "<class 'pandas.core.frame.DataFrame'>\n",
      "RangeIndex: 303 entries, 0 to 302\n",
      "Data columns (total 14 columns):\n",
      "age         303 non-null int64\n",
      "sex         303 non-null int64\n",
      "cp          303 non-null int64\n",
      "trestbps    303 non-null int64\n",
      "chol        303 non-null int64\n",
      "fbs         303 non-null int64\n",
      "restecg     303 non-null int64\n",
      "thalach     303 non-null int64\n",
      "exang       303 non-null int64\n",
      "oldpeak     303 non-null float64\n",
      "slope       303 non-null int64\n",
      "ca          303 non-null int64\n",
      "thal        303 non-null int64\n",
      "target      303 non-null int64\n",
      "dtypes: float64(1), int64(13)\n",
      "memory usage: 33.3 KB\n"
     ]
    }
   ],
   "source": [
    "data.info()"
   ]
  },
  {
   "cell_type": "code",
   "execution_count": 7,
   "metadata": {},
   "outputs": [
    {
     "data": {
      "text/plain": [
       "array([[<matplotlib.axes._subplots.AxesSubplot object at 0x0000019A79A09288>,\n",
       "        <matplotlib.axes._subplots.AxesSubplot object at 0x0000019A79890348>,\n",
       "        <matplotlib.axes._subplots.AxesSubplot object at 0x0000019A79D0ACC8>,\n",
       "        <matplotlib.axes._subplots.AxesSubplot object at 0x0000019A79D42E08>],\n",
       "       [<matplotlib.axes._subplots.AxesSubplot object at 0x0000019A79D7BE88>,\n",
       "        <matplotlib.axes._subplots.AxesSubplot object at 0x0000019A79DB3F88>,\n",
       "        <matplotlib.axes._subplots.AxesSubplot object at 0x0000019A79DEE108>,\n",
       "        <matplotlib.axes._subplots.AxesSubplot object at 0x0000019A79E26208>],\n",
       "       [<matplotlib.axes._subplots.AxesSubplot object at 0x0000019A79E2CDC8>,\n",
       "        <matplotlib.axes._subplots.AxesSubplot object at 0x0000019A79E63F88>,\n",
       "        <matplotlib.axes._subplots.AxesSubplot object at 0x0000019A79ED04C8>,\n",
       "        <matplotlib.axes._subplots.AxesSubplot object at 0x0000019A79F0A5C8>],\n",
       "       [<matplotlib.axes._subplots.AxesSubplot object at 0x0000019A79F41708>,\n",
       "        <matplotlib.axes._subplots.AxesSubplot object at 0x0000019A79F79808>,\n",
       "        <matplotlib.axes._subplots.AxesSubplot object at 0x0000019A79FB1908>,\n",
       "        <matplotlib.axes._subplots.AxesSubplot object at 0x0000019A79FE9AC8>]],\n",
       "      dtype=object)"
      ]
     },
     "execution_count": 7,
     "metadata": {},
     "output_type": "execute_result"
    },
    {
     "data": {
      "image/png": "[encoded data removed]",
      "text/plain": [
       "<Figure size 432x288 with 16 Axes>"
      ]
     },
     "metadata": {
      "needs_background": "light"
     },
     "output_type": "display_data"
    }
   ],
   "source": [
    "data.hist()"
   ]
  },
  {
   "cell_type": "code",
   "execution_count": 8,
   "metadata": {},
   "outputs": [
    {
     "data": {
      "image/png": "[encoded data removed]",
      "text/plain": [
       "<Figure size 1440x1440 with 2 Axes>"
      ]
     },
     "metadata": {
      "needs_background": "light"
     },
     "output_type": "display_data"
    }
   ],
   "source": [
    "\n",
    "import seaborn as sns\n",
    "#get correlations of each features in dataset\n",
    "corrmat = data.corr()\n",
    "top_corr_features = corrmat.index\n",
    "plt.figure(figsize=(20,20))\n",
    "#plot heat map\n",
    "g=sns.heatmap(data[top_corr_features].corr(),annot=True,cmap=\"RdYlGn\")"
   ]
  },
  {
   "cell_type": "markdown",
   "metadata": {},
   "source": [
    "# FEATURE SCALING "
   ]
  },
  {
   "cell_type": "code",
   "execution_count": 9,
   "metadata": {},
   "outputs": [],
   "source": [
    "\n",
    "from sklearn.model_selection import train_test_split\n",
    "from sklearn.preprocessing import StandardScaler\n",
    "standardScaler = StandardScaler()\n",
    "columns_to_scale = ['age', 'trestbps', 'chol', 'thalach', 'oldpeak']\n",
    "dataset[columns_to_scale] = standardScaler.fit_transform(dataset[columns_to_scale])"
   ]
  },
  {
   "cell_type": "markdown",
   "metadata": {},
   "source": [
    "# SETTING UP  DATA VARIABLES"
   ]
  },
  {
   "cell_type": "code",
   "execution_count": 10,
   "metadata": {},
   "outputs": [],
   "source": [
    "y = dataset['target']\n",
    "X = dataset.drop(['target'], axis = 1)"
   ]
  },
  {
   "cell_type": "code",
   "execution_count": 11,
   "metadata": {},
   "outputs": [],
   "source": [
    "from sklearn.model_selection import train_test_split\n",
    "X_train, X_test, y_train, y_test = train_test_split(X, y, test_size = 0.25, random_state = 0)\n"
   ]
  },
  {
   "cell_type": "markdown",
   "metadata": {},
   "source": [
    "# RANDOM FOREST :"
   ]
  },
  {
   "cell_type": "code",
   "execution_count": 12,
   "metadata": {},
   "outputs": [
    {
     "name": "stdout",
     "output_type": "stream",
     "text": [
      "[[25  8]\n",
      " [ 6 37]]\n"
     ]
    }
   ],
   "source": [
    "from sklearn.ensemble import RandomForestClassifier\n",
    "\n",
    "classifier = RandomForestClassifier(n_estimators=10, criterion='entropy', random_state=0)\n",
    "classifier.fit(X_train, y_train)\n",
    "\n",
    "# Predicting the Test set results\n",
    "y_pred = classifier.predict(X_test)\n",
    "#\n",
    "\n",
    "# Making the Confusion Matrix\n",
    "from sklearn.metrics import confusion_matrix\n",
    "cm = confusion_matrix(y_test, y_pred)\n",
    "print(cm)"
   ]
  },
  {
   "cell_type": "code",
   "execution_count": 13,
   "metadata": {},
   "outputs": [
    {
     "data": {
      "text/plain": [
       "0.8157894736842105"
      ]
     },
     "execution_count": 13,
     "metadata": {},
     "output_type": "execute_result"
    }
   ],
   "source": [
    "(25+37)/(25+8+6+37)"
   ]
  },
  {
   "cell_type": "markdown",
   "metadata": {},
   "source": [
    "# SVM :"
   ]
  },
  {
   "cell_type": "code",
   "execution_count": 14,
   "metadata": {},
   "outputs": [
    {
     "name": "stdout",
     "output_type": "stream",
     "text": [
      "[[26  7]\n",
      " [ 5 38]]\n"
     ]
    }
   ],
   "source": [
    "# Training the Kernel SVM model on the Training set\n",
    "from sklearn.svm import SVC\n",
    "classifier = SVC(kernel = 'rbf', random_state = 0)\n",
    "classifier.fit(X_train, y_train)\n",
    "\n",
    "# Predicting the Test set results\n",
    "y_pred = classifier.predict(X_test)\n",
    "\n",
    "# Making the Confusion Matrix\n",
    "from sklearn.metrics import confusion_matrix\n",
    "cm = confusion_matrix(y_test, y_pred)\n",
    "print(cm)\n"
   ]
  },
  {
   "cell_type": "code",
   "execution_count": 15,
   "metadata": {},
   "outputs": [
    {
     "data": {
      "text/plain": [
       "0.8421052631578947"
      ]
     },
     "execution_count": 15,
     "metadata": {},
     "output_type": "execute_result"
    }
   ],
   "source": [
    "(26+38)/(26+38+12)"
   ]
  },
  {
   "cell_type": "code",
   "execution_count": 16,
   "metadata": {},
   "outputs": [
    {
     "name": "stdout",
     "output_type": "stream",
     "text": [
      "[[25  8]\n",
      " [ 4 39]]\n"
     ]
    }
   ],
   "source": [
    "\n",
    "# Training the Naive Bayes model on the Training set\n",
    "from sklearn.naive_bayes import GaussianNB\n",
    "classifier = GaussianNB()\n",
    "classifier.fit(X_train, y_train)\n",
    "\n",
    "# Predicting the Test set results\n",
    "y_pred = classifier.predict(X_test)\n",
    "\n",
    "# Making the Confusion Matrix\n",
    "from sklearn.metrics import confusion_matrix\n",
    "cm = confusion_matrix(y_test, y_pred)\n",
    "print(cm)\n"
   ]
  },
  {
   "cell_type": "code",
   "execution_count": 17,
   "metadata": {},
   "outputs": [
    {
     "data": {
      "text/plain": [
       "0.8421052631578947"
      ]
     },
     "execution_count": 17,
     "metadata": {},
     "output_type": "execute_result"
    }
   ],
   "source": [
    "(25+39)/(25+39+12)"
   ]
  },
  {
   "cell_type": "markdown",
   "metadata": {},
   "source": [
    "# LOGISTIC REGRESSION :"
   ]
  },
  {
   "cell_type": "code",
   "execution_count": 19,
   "metadata": {},
   "outputs": [
    {
     "name": "stdout",
     "output_type": "stream",
     "text": [
      "[[26  7]\n",
      " [ 4 39]]\n"
     ]
    }
   ],
   "source": [
    "\n",
    "# Training the Logistic Regression model on the Training set\n",
    "from sklearn.linear_model import LogisticRegression\n",
    "classifier = LogisticRegression(random_state = 0)\n",
    "classifier.fit(X_train, y_train)\n",
    "\n",
    "# Predicting the Test set results\n",
    "y_pred = classifier.predict(X_test)\n",
    "\n",
    "# Making the Confusion Matrix\n",
    "from sklearn.metrics import confusion_matrix\n",
    "cm = confusion_matrix(y_test, y_pred)\n",
    "print(cm)"
   ]
  },
  {
   "cell_type": "code",
   "execution_count": 23,
   "metadata": {},
   "outputs": [
    {
     "data": {
      "text/plain": [
       "0.8552631578947368"
      ]
     },
     "execution_count": 23,
     "metadata": {},
     "output_type": "execute_result"
    }
   ],
   "source": [
    "(26+39)/(26+39+11)"
   ]
  },
  {
   "cell_type": "markdown",
   "metadata": {},
   "source": [
    "# XGBOOST CLASSIFIER :"
   ]
  },
  {
   "cell_type": "code",
   "execution_count": 25,
   "metadata": {},
   "outputs": [
    {
     "name": "stdout",
     "output_type": "stream",
     "text": [
      "[[25  8]\n",
      " [ 6 37]]\n"
     ]
    }
   ],
   "source": [
    "# Training XGBoost on the Training set\n",
    "from xgboost import XGBClassifier\n",
    "classifier = XGBClassifier()\n",
    "classifier.fit(X_train, y_train)\n",
    "\n",
    "# Predicting the Test set results\n",
    "y_pred = classifier.predict(X_test)\n",
    "\n",
    "# Making the Confusion Matrix\n",
    "from sklearn.metrics import confusion_matrix\n",
    "cm = confusion_matrix(y_test, y_pred)\n",
    "print(cm)\n"
   ]
  },
  {
   "cell_type": "code",
   "execution_count": 26,
   "metadata": {},
   "outputs": [
    {
     "data": {
      "text/plain": [
       "0.8157894736842105"
      ]
     },
     "execution_count": 26,
     "metadata": {},
     "output_type": "execute_result"
    }
   ],
   "source": [
    "(25+37)/(25+37+14)"
   ]
  },
  {
   "cell_type": "code",
   "execution_count": 27,
   "metadata": {},
   "outputs": [
    {
     "name": "stdout",
     "output_type": "stream",
     "text": [
      "Accuracy: 79.92 %\n",
      "Standard Deviation: 7.00 %\n"
     ]
    }
   ],
   "source": [
    "# Applying k-Fold Cross Validation\n",
    "from sklearn.model_selection import cross_val_score\n",
    "accuracies = cross_val_score(estimator = classifier, X = X_train, y = y_train, cv = 10)\n",
    "print(\"Accuracy: {:.2f} %\".format(accuracies.mean()*100))\n",
    "print(\"Standard Deviation: {:.2f} %\".format(accuracies.std()*100))"
   ]
  },
  {
   "cell_type": "markdown",
   "metadata": {},
   "source": [
    "# ANN :"
   ]
  },
  {
   "cell_type": "code",
   "execution_count": 31,
   "metadata": {},
   "outputs": [
    {
     "name": "stdout",
     "output_type": "stream",
     "text": [
      "[[ 0.9521966   0.76395577 -0.25633371 ...  3.97911213 -1.10076284\n",
      "  -0.79311554]\n",
      " [-1.91531289 -0.09273778  0.07219949 ... -0.25131234  0.9084609\n",
      "  -0.79311554]\n",
      " [-1.47415758 -0.09273778 -0.81677269 ... -0.25131234  0.9084609\n",
      "  -0.79311554]\n",
      " ...\n",
      " [ 1.50364073  0.70684287 -1.029353   ... -0.25131234 -1.10076284\n",
      "   1.26085034]\n",
      " [ 0.29046364 -0.09273778 -2.2275329  ... -0.25131234 -1.10076284\n",
      "   1.26085034]\n",
      " [ 0.29046364 -0.09273778 -0.19835726 ... -0.25131234  0.9084609\n",
      "  -0.79311554]]\n"
     ]
    }
   ],
   "source": [
    "b = dataset['target'].values\n",
    "A= dataset.drop(['target'], axis = 1).values\n",
    "# Splitting the dataset into the Training set and Test set\n",
    "from sklearn.model_selection import train_test_split\n",
    "X_train, X_test, y_train, y_test = train_test_split(A, b, test_size = 0.25, random_state = 0)\n",
    "from sklearn.preprocessing import StandardScaler\n",
    "sc = StandardScaler()\n",
    "A = sc.fit_transform(A)\n",
    "print(A)"
   ]
  },
  {
   "cell_type": "code",
   "execution_count": 32,
   "metadata": {},
   "outputs": [
    {
     "name": "stdout",
     "output_type": "stream",
     "text": [
      "Train on 152 samples, validate on 75 samples\n",
      "Epoch 1/100\n",
      "152/152 [==============================] - 0s 2ms/step - loss: 0.6942 - accuracy: 0.5066 - val_loss: 0.6876 - val_accuracy: 0.6400\n",
      "Epoch 2/100\n",
      "152/152 [==============================] - 0s 180us/step - loss: 0.6831 - accuracy: 0.5329 - val_loss: 0.6780 - val_accuracy: 0.6533\n",
      "Epoch 3/100\n",
      "152/152 [==============================] - 0s 164us/step - loss: 0.6753 - accuracy: 0.5526 - val_loss: 0.6718 - val_accuracy: 0.6667\n",
      "Epoch 4/100\n",
      "152/152 [==============================] - 0s 150us/step - loss: 0.6678 - accuracy: 0.6118 - val_loss: 0.6642 - val_accuracy: 0.6933\n",
      "Epoch 5/100\n",
      "152/152 [==============================] - 0s 183us/step - loss: 0.6604 - accuracy: 0.6513 - val_loss: 0.6583 - val_accuracy: 0.6800\n",
      "Epoch 6/100\n",
      "152/152 [==============================] - 0s 149us/step - loss: 0.6537 - accuracy: 0.6711 - val_loss: 0.6510 - val_accuracy: 0.7200\n",
      "Epoch 7/100\n",
      "152/152 [==============================] - 0s 151us/step - loss: 0.6464 - accuracy: 0.6842 - val_loss: 0.6433 - val_accuracy: 0.7733\n",
      "Epoch 8/100\n",
      "152/152 [==============================] - 0s 171us/step - loss: 0.6396 - accuracy: 0.6645 - val_loss: 0.6366 - val_accuracy: 0.7600\n",
      "Epoch 9/100\n",
      "152/152 [==============================] - 0s 184us/step - loss: 0.6328 - accuracy: 0.6908 - val_loss: 0.6303 - val_accuracy: 0.7733\n",
      "Epoch 10/100\n",
      "152/152 [==============================] - 0s 165us/step - loss: 0.6266 - accuracy: 0.6974 - val_loss: 0.6237 - val_accuracy: 0.7733\n",
      "Epoch 11/100\n",
      "152/152 [==============================] - 0s 151us/step - loss: 0.6199 - accuracy: 0.7039 - val_loss: 0.6168 - val_accuracy: 0.7867\n",
      "Epoch 12/100\n",
      "152/152 [==============================] - 0s 171us/step - loss: 0.6139 - accuracy: 0.7171 - val_loss: 0.6116 - val_accuracy: 0.8000\n",
      "Epoch 13/100\n",
      "152/152 [==============================] - 0s 171us/step - loss: 0.6079 - accuracy: 0.7237 - val_loss: 0.6057 - val_accuracy: 0.8400\n",
      "Epoch 14/100\n",
      "152/152 [==============================] - 0s 177us/step - loss: 0.6017 - accuracy: 0.7368 - val_loss: 0.5985 - val_accuracy: 0.8267\n",
      "Epoch 15/100\n",
      "152/152 [==============================] - 0s 164us/step - loss: 0.5950 - accuracy: 0.7434 - val_loss: 0.5910 - val_accuracy: 0.8400\n",
      "Epoch 16/100\n",
      "152/152 [==============================] - 0s 171us/step - loss: 0.5886 - accuracy: 0.7632 - val_loss: 0.5838 - val_accuracy: 0.8133\n",
      "Epoch 17/100\n",
      "152/152 [==============================] - 0s 183us/step - loss: 0.5820 - accuracy: 0.7566 - val_loss: 0.5760 - val_accuracy: 0.8133\n",
      "Epoch 18/100\n",
      "152/152 [==============================] - 0s 177us/step - loss: 0.5756 - accuracy: 0.7697 - val_loss: 0.5677 - val_accuracy: 0.8400\n",
      "Epoch 19/100\n",
      "152/152 [==============================] - 0s 184us/step - loss: 0.5692 - accuracy: 0.7763 - val_loss: 0.5612 - val_accuracy: 0.8133\n",
      "Epoch 20/100\n",
      "152/152 [==============================] - 0s 183us/step - loss: 0.5632 - accuracy: 0.7697 - val_loss: 0.5550 - val_accuracy: 0.8000\n",
      "Epoch 21/100\n",
      "152/152 [==============================] - 0s 179us/step - loss: 0.5566 - accuracy: 0.7763 - val_loss: 0.5482 - val_accuracy: 0.8267\n",
      "Epoch 22/100\n",
      "152/152 [==============================] - 0s 177us/step - loss: 0.5503 - accuracy: 0.7961 - val_loss: 0.5418 - val_accuracy: 0.8267\n",
      "Epoch 23/100\n",
      "152/152 [==============================] - 0s 177us/step - loss: 0.5441 - accuracy: 0.8092 - val_loss: 0.5347 - val_accuracy: 0.8267\n",
      "Epoch 24/100\n",
      "152/152 [==============================] - 0s 188us/step - loss: 0.5376 - accuracy: 0.8092 - val_loss: 0.5281 - val_accuracy: 0.8400\n",
      "Epoch 25/100\n",
      "152/152 [==============================] - 0s 171us/step - loss: 0.5302 - accuracy: 0.8158 - val_loss: 0.5205 - val_accuracy: 0.8400\n",
      "Epoch 26/100\n",
      "152/152 [==============================] - 0s 210us/step - loss: 0.5229 - accuracy: 0.8289 - val_loss: 0.5129 - val_accuracy: 0.8400\n",
      "Epoch 27/100\n",
      "152/152 [==============================] - 0s 230us/step - loss: 0.5162 - accuracy: 0.8224 - val_loss: 0.5051 - val_accuracy: 0.8400\n",
      "Epoch 28/100\n",
      "152/152 [==============================] - 0s 178us/step - loss: 0.5094 - accuracy: 0.8224 - val_loss: 0.4981 - val_accuracy: 0.8533\n",
      "Epoch 29/100\n",
      "152/152 [==============================] - 0s 171us/step - loss: 0.5023 - accuracy: 0.8289 - val_loss: 0.4901 - val_accuracy: 0.8267\n",
      "Epoch 30/100\n",
      "152/152 [==============================] - 0s 197us/step - loss: 0.4947 - accuracy: 0.8355 - val_loss: 0.4829 - val_accuracy: 0.8133\n",
      "Epoch 31/100\n",
      "152/152 [==============================] - 0s 177us/step - loss: 0.4875 - accuracy: 0.8355 - val_loss: 0.4758 - val_accuracy: 0.8267\n",
      "Epoch 32/100\n",
      "152/152 [==============================] - 0s 158us/step - loss: 0.4808 - accuracy: 0.8355 - val_loss: 0.4694 - val_accuracy: 0.8267\n",
      "Epoch 33/100\n",
      "152/152 [==============================] - 0s 190us/step - loss: 0.4739 - accuracy: 0.8355 - val_loss: 0.4623 - val_accuracy: 0.8267\n",
      "Epoch 34/100\n",
      "152/152 [==============================] - 0s 170us/step - loss: 0.4676 - accuracy: 0.8355 - val_loss: 0.4561 - val_accuracy: 0.8267\n",
      "Epoch 35/100\n",
      "152/152 [==============================] - 0s 164us/step - loss: 0.4611 - accuracy: 0.8289 - val_loss: 0.4488 - val_accuracy: 0.8133\n",
      "Epoch 36/100\n",
      "152/152 [==============================] - 0s 177us/step - loss: 0.4540 - accuracy: 0.8487 - val_loss: 0.4428 - val_accuracy: 0.8133\n",
      "Epoch 37/100\n",
      "152/152 [==============================] - 0s 184us/step - loss: 0.4482 - accuracy: 0.8421 - val_loss: 0.4377 - val_accuracy: 0.8267\n",
      "Epoch 38/100\n",
      "152/152 [==============================] - 0s 164us/step - loss: 0.4429 - accuracy: 0.8421 - val_loss: 0.4312 - val_accuracy: 0.8267\n",
      "Epoch 39/100\n",
      "152/152 [==============================] - 0s 172us/step - loss: 0.4376 - accuracy: 0.8421 - val_loss: 0.4253 - val_accuracy: 0.8267\n",
      "Epoch 40/100\n",
      "152/152 [==============================] - 0s 164us/step - loss: 0.4322 - accuracy: 0.8355 - val_loss: 0.4197 - val_accuracy: 0.8533\n",
      "Epoch 41/100\n",
      "152/152 [==============================] - 0s 156us/step - loss: 0.4267 - accuracy: 0.8355 - val_loss: 0.4149 - val_accuracy: 0.8533\n",
      "Epoch 42/100\n",
      "152/152 [==============================] - ETA: 0s - loss: 0.4809 - accuracy: 0.80 - 0s 230us/step - loss: 0.4214 - accuracy: 0.8355 - val_loss: 0.4106 - val_accuracy: 0.8533\n",
      "Epoch 43/100\n",
      "152/152 [==============================] - 0s 177us/step - loss: 0.4174 - accuracy: 0.8355 - val_loss: 0.4057 - val_accuracy: 0.8533\n",
      "Epoch 44/100\n",
      "152/152 [==============================] - 0s 171us/step - loss: 0.4129 - accuracy: 0.8355 - val_loss: 0.4013 - val_accuracy: 0.8533\n",
      "Epoch 45/100\n",
      "152/152 [==============================] - 0s 158us/step - loss: 0.4087 - accuracy: 0.8355 - val_loss: 0.3964 - val_accuracy: 0.8400\n",
      "Epoch 46/100\n",
      "152/152 [==============================] - 0s 164us/step - loss: 0.4047 - accuracy: 0.8355 - val_loss: 0.3915 - val_accuracy: 0.8533\n",
      "Epoch 47/100\n",
      "152/152 [==============================] - 0s 162us/step - loss: 0.4002 - accuracy: 0.8421 - val_loss: 0.3898 - val_accuracy: 0.8667\n",
      "Epoch 48/100\n",
      "152/152 [==============================] - 0s 164us/step - loss: 0.3972 - accuracy: 0.8421 - val_loss: 0.3875 - val_accuracy: 0.8667\n",
      "Epoch 49/100\n",
      "152/152 [==============================] - 0s 164us/step - loss: 0.3940 - accuracy: 0.8421 - val_loss: 0.3839 - val_accuracy: 0.8667\n",
      "Epoch 50/100\n",
      "152/152 [==============================] - 0s 164us/step - loss: 0.3905 - accuracy: 0.8421 - val_loss: 0.3807 - val_accuracy: 0.8667\n",
      "Epoch 51/100\n",
      "152/152 [==============================] - 0s 152us/step - loss: 0.3876 - accuracy: 0.8487 - val_loss: 0.3771 - val_accuracy: 0.8667\n",
      "Epoch 52/100\n",
      "152/152 [==============================] - 0s 170us/step - loss: 0.3842 - accuracy: 0.8487 - val_loss: 0.3745 - val_accuracy: 0.8667\n",
      "Epoch 53/100\n",
      "152/152 [==============================] - 0s 164us/step - loss: 0.3809 - accuracy: 0.8487 - val_loss: 0.3720 - val_accuracy: 0.8667\n",
      "Epoch 54/100\n",
      "152/152 [==============================] - 0s 164us/step - loss: 0.3778 - accuracy: 0.8487 - val_loss: 0.3695 - val_accuracy: 0.8667\n",
      "Epoch 55/100\n",
      "152/152 [==============================] - 0s 171us/step - loss: 0.3750 - accuracy: 0.8487 - val_loss: 0.3669 - val_accuracy: 0.8667\n",
      "Epoch 56/100\n",
      "152/152 [==============================] - 0s 157us/step - loss: 0.3726 - accuracy: 0.8553 - val_loss: 0.3644 - val_accuracy: 0.8667\n",
      "Epoch 57/100\n",
      "152/152 [==============================] - 0s 151us/step - loss: 0.3698 - accuracy: 0.8487 - val_loss: 0.3616 - val_accuracy: 0.8533\n",
      "Epoch 58/100\n",
      "152/152 [==============================] - 0s 170us/step - loss: 0.3680 - accuracy: 0.8553 - val_loss: 0.3602 - val_accuracy: 0.8533\n",
      "Epoch 59/100\n",
      "152/152 [==============================] - 0s 143us/step - loss: 0.3659 - accuracy: 0.8553 - val_loss: 0.3587 - val_accuracy: 0.8533\n",
      "Epoch 60/100\n",
      "152/152 [==============================] - 0s 152us/step - loss: 0.3637 - accuracy: 0.8553 - val_loss: 0.3576 - val_accuracy: 0.8533\n",
      "Epoch 61/100\n",
      "152/152 [==============================] - 0s 151us/step - loss: 0.3623 - accuracy: 0.8553 - val_loss: 0.3576 - val_accuracy: 0.8533\n",
      "Epoch 62/100\n",
      "152/152 [==============================] - 0s 151us/step - loss: 0.3605 - accuracy: 0.8618 - val_loss: 0.3568 - val_accuracy: 0.8533\n",
      "Epoch 63/100\n",
      "152/152 [==============================] - 0s 151us/step - loss: 0.3589 - accuracy: 0.8618 - val_loss: 0.3552 - val_accuracy: 0.8533\n",
      "Epoch 64/100\n",
      "152/152 [==============================] - 0s 151us/step - loss: 0.3572 - accuracy: 0.8618 - val_loss: 0.3540 - val_accuracy: 0.8533\n",
      "Epoch 65/100\n",
      "152/152 [==============================] - 0s 197us/step - loss: 0.3559 - accuracy: 0.8618 - val_loss: 0.3527 - val_accuracy: 0.8533\n",
      "Epoch 66/100\n",
      "152/152 [==============================] - 0s 243us/step - loss: 0.3541 - accuracy: 0.8618 - val_loss: 0.3518 - val_accuracy: 0.8533\n",
      "Epoch 67/100\n",
      "152/152 [==============================] - 0s 177us/step - loss: 0.3526 - accuracy: 0.8684 - val_loss: 0.3504 - val_accuracy: 0.8533\n",
      "Epoch 68/100\n",
      "152/152 [==============================] - 0s 145us/step - loss: 0.3518 - accuracy: 0.8618 - val_loss: 0.3485 - val_accuracy: 0.8533\n",
      "Epoch 69/100\n",
      "152/152 [==============================] - 0s 158us/step - loss: 0.3496 - accuracy: 0.8684 - val_loss: 0.3482 - val_accuracy: 0.8533\n",
      "Epoch 70/100\n",
      "152/152 [==============================] - 0s 151us/step - loss: 0.3483 - accuracy: 0.8684 - val_loss: 0.3476 - val_accuracy: 0.8533\n",
      "Epoch 71/100\n",
      "152/152 [==============================] - 0s 160us/step - loss: 0.3472 - accuracy: 0.8684 - val_loss: 0.3463 - val_accuracy: 0.8533\n",
      "Epoch 72/100\n",
      "152/152 [==============================] - 0s 151us/step - loss: 0.3450 - accuracy: 0.8750 - val_loss: 0.3451 - val_accuracy: 0.8533\n",
      "Epoch 73/100\n",
      "152/152 [==============================] - 0s 158us/step - loss: 0.3437 - accuracy: 0.8816 - val_loss: 0.3442 - val_accuracy: 0.8533\n",
      "Epoch 74/100\n",
      "152/152 [==============================] - 0s 151us/step - loss: 0.3426 - accuracy: 0.8816 - val_loss: 0.3425 - val_accuracy: 0.8533\n",
      "Epoch 75/100\n",
      "152/152 [==============================] - 0s 157us/step - loss: 0.3413 - accuracy: 0.8816 - val_loss: 0.3417 - val_accuracy: 0.8533\n",
      "Epoch 76/100\n",
      "152/152 [==============================] - 0s 157us/step - loss: 0.3395 - accuracy: 0.8816 - val_loss: 0.3407 - val_accuracy: 0.8533\n",
      "Epoch 77/100\n",
      "152/152 [==============================] - 0s 151us/step - loss: 0.3377 - accuracy: 0.8816 - val_loss: 0.3400 - val_accuracy: 0.8533\n",
      "Epoch 78/100\n",
      "152/152 [==============================] - 0s 158us/step - loss: 0.3363 - accuracy: 0.8816 - val_loss: 0.3390 - val_accuracy: 0.8533\n",
      "Epoch 79/100\n",
      "152/152 [==============================] - 0s 157us/step - loss: 0.3349 - accuracy: 0.8816 - val_loss: 0.3381 - val_accuracy: 0.8533\n",
      "Epoch 80/100\n",
      "152/152 [==============================] - 0s 164us/step - loss: 0.3340 - accuracy: 0.8882 - val_loss: 0.3372 - val_accuracy: 0.8533\n",
      "Epoch 81/100\n",
      "152/152 [==============================] - 0s 157us/step - loss: 0.3334 - accuracy: 0.8947 - val_loss: 0.3363 - val_accuracy: 0.8533\n",
      "Epoch 82/100\n",
      "152/152 [==============================] - 0s 151us/step - loss: 0.3311 - accuracy: 0.8947 - val_loss: 0.3353 - val_accuracy: 0.8533\n",
      "Epoch 83/100\n",
      "152/152 [==============================] - 0s 151us/step - loss: 0.3296 - accuracy: 0.8947 - val_loss: 0.3348 - val_accuracy: 0.8533\n",
      "Epoch 84/100\n",
      "152/152 [==============================] - 0s 157us/step - loss: 0.3283 - accuracy: 0.8947 - val_loss: 0.3343 - val_accuracy: 0.8533\n",
      "Epoch 85/100\n",
      "152/152 [==============================] - 0s 158us/step - loss: 0.3271 - accuracy: 0.9013 - val_loss: 0.3332 - val_accuracy: 0.8533\n",
      "Epoch 86/100\n",
      "152/152 [==============================] - 0s 157us/step - loss: 0.3258 - accuracy: 0.9013 - val_loss: 0.3321 - val_accuracy: 0.8533\n",
      "Epoch 87/100\n",
      "152/152 [==============================] - 0s 151us/step - loss: 0.3244 - accuracy: 0.9013 - val_loss: 0.3312 - val_accuracy: 0.8533\n",
      "Epoch 88/100\n",
      "152/152 [==============================] - 0s 164us/step - loss: 0.3235 - accuracy: 0.9013 - val_loss: 0.3304 - val_accuracy: 0.8533\n",
      "Epoch 89/100\n",
      "152/152 [==============================] - 0s 151us/step - loss: 0.3216 - accuracy: 0.9013 - val_loss: 0.3298 - val_accuracy: 0.8533\n",
      "Epoch 90/100\n",
      "152/152 [==============================] - 0s 157us/step - loss: 0.3209 - accuracy: 0.9013 - val_loss: 0.3297 - val_accuracy: 0.8533\n",
      "Epoch 91/100\n",
      "152/152 [==============================] - 0s 151us/step - loss: 0.3199 - accuracy: 0.9013 - val_loss: 0.3289 - val_accuracy: 0.8533\n",
      "Epoch 92/100\n",
      "152/152 [==============================] - 0s 161us/step - loss: 0.3181 - accuracy: 0.9013 - val_loss: 0.3283 - val_accuracy: 0.8533\n",
      "Epoch 93/100\n",
      "152/152 [==============================] - 0s 148us/step - loss: 0.3172 - accuracy: 0.9013 - val_loss: 0.3270 - val_accuracy: 0.8667\n",
      "Epoch 94/100\n",
      "152/152 [==============================] - 0s 155us/step - loss: 0.3160 - accuracy: 0.9013 - val_loss: 0.3269 - val_accuracy: 0.8667\n",
      "Epoch 95/100\n",
      "152/152 [==============================] - 0s 151us/step - loss: 0.3145 - accuracy: 0.9013 - val_loss: 0.3268 - val_accuracy: 0.8533\n",
      "Epoch 96/100\n",
      "152/152 [==============================] - 0s 157us/step - loss: 0.3133 - accuracy: 0.9079 - val_loss: 0.3267 - val_accuracy: 0.8533\n",
      "Epoch 97/100\n",
      "152/152 [==============================] - 0s 144us/step - loss: 0.3123 - accuracy: 0.9013 - val_loss: 0.3264 - val_accuracy: 0.8533\n",
      "Epoch 98/100\n",
      "152/152 [==============================] - 0s 157us/step - loss: 0.3114 - accuracy: 0.9013 - val_loss: 0.3256 - val_accuracy: 0.8667\n",
      "Epoch 99/100\n",
      "152/152 [==============================] - 0s 144us/step - loss: 0.3099 - accuracy: 0.9013 - val_loss: 0.3257 - val_accuracy: 0.8533\n",
      "Epoch 100/100\n",
      "152/152 [==============================] - 0s 157us/step - loss: 0.3088 - accuracy: 0.9013 - val_loss: 0.3258 - val_accuracy: 0.8400\n"
     ]
    }
   ],
   "source": [
    "\n",
    "# Importing the Keras libraries and packages\n",
    "import keras\n",
    "from keras.models import Sequential\n",
    "from keras.layers import Dense\n",
    "from keras.layers import LeakyReLU,PReLU,ELU\n",
    "from keras.layers import Dropout\n",
    "\n",
    "\n",
    "# Initialising the ANN\n",
    "classifier = Sequential()\n",
    "\n",
    "# Adding the input layer and the first hidden layer\n",
    "classifier.add(Dense(output_dim = 6, init = 'he_uniform',activation='relu'))\n",
    "\n",
    "# Adding the second hidden layer\n",
    "classifier.add(Dense(output_dim = 6, init = 'he_uniform',activation='relu'))\n",
    "# Adding the output layer\n",
    "classifier.add(Dense(output_dim = 1, init = 'glorot_uniform', activation = 'sigmoid'))\n",
    "\n",
    "# Compiling the ANN\n",
    "classifier.compile(optimizer = 'Adamax', loss = 'binary_crossentropy', metrics = ['accuracy'])\n",
    "\n",
    "# Fitting the ANN to the Training set\n",
    "model_history=classifier.fit(X_train, y_train,validation_split=0.33, batch_size = 10, nb_epoch = 100)"
   ]
  },
  {
   "cell_type": "code",
   "execution_count": 33,
   "metadata": {},
   "outputs": [],
   "source": [
    "\n",
    "# Predicting the Test set results\n",
    "y_pred = classifier.predict(X_test)\n",
    "y_pred = (y_pred > 0.5)\n",
    "\n",
    "# Making the Confusion Matrix\n",
    "from sklearn.metrics import confusion_matrix\n",
    "cm = confusion_matrix(y_test, y_pred)\n",
    "\n",
    "# Calculate the Accuracy\n",
    "from sklearn.metrics import accuracy_score\n",
    "score=accuracy_score(y_pred,y_test)\n"
   ]
  },
  {
   "cell_type": "code",
   "execution_count": 34,
   "metadata": {},
   "outputs": [
    {
     "data": {
      "text/plain": [
       "0.8289473684210527"
      ]
     },
     "execution_count": 34,
     "metadata": {},
     "output_type": "execute_result"
    }
   ],
   "source": [
    "score"
   ]
  },
  {
   "cell_type": "markdown",
   "metadata": {},
   "source": [
    "## BEST ACCURACY WITH LOGISTIC REGRESSION."
   ]
  },
  {
   "cell_type": "markdown",
   "metadata": {},
   "source": [
    "# WHICH IS 85%...!!"
   ]
  }
 ],
 "metadata": {
  "kernelspec": {
   "display_name": "Python 3",
   "language": "python",
   "name": "python3"
  },
  "language_info": {
   "codemirror_mode": {
    "name": "ipython",
    "version": 3
   },
   "file_extension": ".py",
   "mimetype": "text/x-python",
   "name": "python",
   "nbconvert_exporter": "python",
   "pygments_lexer": "ipython3",
   "version": "3.7.4"
  }
 },
 "nbformat": 4,
 "nbformat_minor": 2
}
